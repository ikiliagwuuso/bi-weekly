{
 "cells": [
  {
   "cell_type": "markdown",
   "metadata": {},
   "source": [
    "## CHALLENGE:\n",
    "\n",
    "### Write a python program that prompts for inputs from the user. The inputs should be the user's name and the age.\n",
    "### Print the user’s name and age\n",
    "### Calculate the user’s DOB using the age and print to screen\n",
    "### State which age group the user belongs to  How are the different age groups defined? – Conduent Healthy Communities Institute\n",
    "### What was the user’s age a decade ago? (print to screen)\n",
    "### For the next 50 years, print what the user’s age will be after every decade (NB: The current year is 2020 :))\n"
   ]
  },
  {
   "cell_type": "code",
   "execution_count": 1,
   "metadata": {},
   "outputs": [
    {
     "name": "stdout",
     "output_type": "stream",
     "text": [
      "please enter your name: Uso Ikiliagwu\n",
      "your age: 26\n",
      "Hello Uso Ikiliagwu, You are 26 years old.\n",
      "Your birthdate is, 1994.\n"
     ]
    }
   ],
   "source": [
    "user_name = input('please enter your name: ')\n",
    "age = float(input('your age: '))\n",
    "age = int(age)\n",
    "print('Hello ' + user_name + ','+ ' ' +  'You are ' + str(age) + ' ' + 'years old.')\n",
    "DOB = 2020 - age\n",
    "print('Your birthdate is, ' + str(DOB) + '.')"
   ]
  },
  {
   "cell_type": "markdown",
   "metadata": {},
   "source": [
    "## Age categorization according to input"
   ]
  },
  {
   "cell_type": "code",
   "execution_count": 2,
   "metadata": {},
   "outputs": [
    {
     "name": "stdout",
     "output_type": "stream",
     "text": [
      "   Age AgeGroup\n",
      "0    0   Infant\n",
      "1    2  Toddler\n",
      "2    4      Kid\n",
      "3   13     Teen\n",
      "4   35    Adult\n",
      "5   -1      NaN\n",
      "6   54    Adult\n"
     ]
    }
   ],
   "source": [
    "import pandas as pd\n",
    "import numpy as np\n",
    "\n",
    "# To categorize age \n",
    "    \n",
    "X_train_data = pd.DataFrame({'Age':[0,2,4,13,35,-1,54]})\n",
    "bins= [0,2,4,13,20,110]\n",
    "labels = ['Infant','Toddler','Kid','Teen','Adult']\n",
    "X_train_data['AgeGroup'] = pd.cut(X_train_data['Age'], bins=bins, labels=labels, right=False)\n",
    "print (X_train_data)"
   ]
  },
  {
   "cell_type": "code",
   "execution_count": 3,
   "metadata": {},
   "outputs": [
    {
     "name": "stdout",
     "output_type": "stream",
     "text": [
      "Your age at 26 years old, you are an adult.\n"
     ]
    }
   ],
   "source": [
    "if (age < 1):\n",
    "    print('Your age at ' + str(age)+ ' years old, you are classified as an infant.')\n",
    "elif (age < 12):\n",
    "    print('Your age at ' + str(age) +' years old, you are a classified as child.')\n",
    "\n",
    "elif (age < 18):\n",
    "    print('Your age at ' + str(age) + ' years old, you are a teenager.')\n",
    "elif (age < 64):\n",
    "    print('Your age at ' + str(age) + ' years old, you are an adult.')\n",
    "\n",
    "else:\n",
    "    print('At ' + str(age) + ' years old, you are classed as an elder.')"
   ]
  },
  {
   "cell_type": "markdown",
   "metadata": {},
   "source": [
    "## Age determinant a decade ago\n",
    "### Age every decade for the next 50 years"
   ]
  },
  {
   "cell_type": "code",
   "execution_count": 4,
   "metadata": {},
   "outputs": [
    {
     "name": "stdout",
     "output_type": "stream",
     "text": [
      "Exactly ten years ago, you were 16 years old.\n",
      ", \n",
      "In the year 2030 you will be, 36\n",
      "In the year 2040 you will be, 46\n",
      "In the year 2050 you will be, 56\n",
      "In the year 2060 you will be, 66\n",
      "In the year 2070 you will be, 76\n"
     ]
    }
   ],
   "source": [
    "decade = age - 10\n",
    "print('Exactly ten years ago, you were ' + str(decade) + ' years old.')\n",
    "\n",
    "print(', ')\n",
    "\n",
    "five_decades = [10,20,30,40,50]\n",
    "for abcde in five_decades:\n",
    "    print ('In the year '+ str(2020 + abcde) + ' you will be, '+ str(age + abcde))"
   ]
  },
  {
   "cell_type": "code",
   "execution_count": null,
   "metadata": {},
   "outputs": [],
   "source": []
  }
 ],
 "metadata": {
  "kernelspec": {
   "display_name": "Python 3",
   "language": "python",
   "name": "python3"
  },
  "language_info": {
   "codemirror_mode": {
    "name": "ipython",
    "version": 3
   },
   "file_extension": ".py",
   "mimetype": "text/x-python",
   "name": "python",
   "nbconvert_exporter": "python",
   "pygments_lexer": "ipython3",
   "version": "3.7.6"
  }
 },
 "nbformat": 4,
 "nbformat_minor": 4
}
